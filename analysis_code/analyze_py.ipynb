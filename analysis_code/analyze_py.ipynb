{
 "cells": [
  {
   "cell_type": "markdown",
   "metadata": {
    "slideshow": {
     "slide_type": "slide"
    }
   },
   "source": [
    "## Code for analyzing the Today-Asahi dataset\n",
    "#### Data Management (Spring/Summer 2018) at OSIPP, Osaka U\n",
    "\n",
    "### Python version"
   ]
  },
  {
   "cell_type": "markdown",
   "metadata": {
    "slideshow": {
     "slide_type": "slide"
    }
   },
   "source": [
    "### Preamble"
   ]
  },
  {
   "cell_type": "code",
   "execution_count": 2,
   "metadata": {
    "slideshow": {
     "slide_type": "-"
    }
   },
   "outputs": [],
   "source": [
    "import os\n",
    "import numpy as np\n",
    "import pandas as pd\n",
    "from scipy import stats\n",
    "import statsmodels.api as sm\n",
    "import statsmodels.formula.api as smf\n",
    "from statsmodels.iolib.summary2 import summary_col\n",
    "from linearmodels.panel import PanelOLS\n",
    "import matplotlib.pyplot as plt\n",
    "import seaborn as sns"
   ]
  },
  {
   "cell_type": "code",
   "execution_count": 3,
   "metadata": {
    "slideshow": {
     "slide_type": "subslide"
    }
   },
   "outputs": [],
   "source": [
    "os.chdir(\"..\") # set the parent directory as a working directory. Alternatively, specify the path to your local directory."
   ]
  },
  {
   "cell_type": "code",
   "execution_count": 4,
   "metadata": {
    "slideshow": {
     "slide_type": "subslide"
    }
   },
   "outputs": [],
   "source": [
    "pd.options.display.max_rows = 100\n",
    "pd.options.display.max_columns = 200"
   ]
  },
  {
   "cell_type": "markdown",
   "metadata": {
    "slideshow": {
     "slide_type": "slide"
    }
   },
   "source": [
    "### Import data"
   ]
  },
  {
   "cell_type": "code",
   "execution_count": null,
   "metadata": {
    "slideshow": {
     "slide_type": "-"
    }
   },
   "outputs": [],
   "source": [
    "ta_panel = pd.read_table('build_input/todai-asahi/output/syuuin_2009_2014_py.csv',sep=',') \n",
    "print(len(ta_panel))\n",
    "#ta_panel = ta_panel.set_index(['uid','ELECYEAR']) # set index\n",
    "ta_panel['const'] = 1 # add constant (which will be used for regressions)\n",
    "ta_panel = ta_panel[(ta_panel['PREFEC'] != 66) & (ta_panel['PREFEC'].isna() == False)] # remove PR and missing prefec\n",
    "print(len(ta_panel))"
   ]
  },
  {
   "cell_type": "markdown",
   "metadata": {
    "slideshow": {
     "slide_type": "slide"
    }
   },
   "source": [
    "### Check contents"
   ]
  },
  {
   "cell_type": "code",
   "execution_count": null,
   "metadata": {
    "slideshow": {
     "slide_type": "subslide"
    }
   },
   "outputs": [],
   "source": [
    "print(ta_panel.head(5)) # top 5 rows"
   ]
  },
  {
   "cell_type": "code",
   "execution_count": null,
   "metadata": {},
   "outputs": [],
   "source": [
    "print(ta_panel.info()) # info"
   ]
  },
  {
   "cell_type": "code",
   "execution_count": null,
   "metadata": {
    "slideshow": {
     "slide_type": "subslide"
    }
   },
   "outputs": [],
   "source": [
    "print(ta_panel.describe()) # get a summary table"
   ]
  },
  {
   "cell_type": "code",
   "execution_count": null,
   "metadata": {
    "slideshow": {
     "slide_type": "subslide"
    }
   },
   "outputs": [],
   "source": [
    "print(ta_panel.isna().sum()) # count missing values"
   ]
  },
  {
   "cell_type": "markdown",
   "metadata": {
    "slideshow": {
     "slide_type": "slide"
    }
   },
   "source": [
    "### Make a summary table"
   ]
  },
  {
   "cell_type": "code",
   "execution_count": 15,
   "metadata": {
    "slideshow": {
     "slide_type": "-"
    }
   },
   "outputs": [],
   "source": [
    "ta_panel.agg(['mean','std','min','max','count']).T.to_latex(\"analysis_output/sum_stat.tex\")\n",
    "#ta_panel.describe().loc[['mean','std','min','max','count']].T.to_latex(\"analysis_output/sum_stat.tex\")"
   ]
  },
  {
   "cell_type": "markdown",
   "metadata": {
    "slideshow": {
     "slide_type": "subslide"
    }
   },
   "source": [
    "#### - Group summary\n",
    "- Useful method: `groupby()`."
   ]
  },
  {
   "cell_type": "code",
   "execution_count": null,
   "metadata": {
    "slideshow": {
     "slide_type": "-"
    }
   },
   "outputs": [],
   "source": [
    "yn = ta_panel['yn_fiscalpol'].dropna() # remove missing values in yn_ficalpol\n",
    "yn = yn[yn != 99] # remove \"no answer\"\n",
    "print(len(yn),len(ta_panel))\n",
    "print(yn.groupby(ta_panel['SEX']).describe()) # summarize yn_fiscalpol by sex\n",
    "\n",
    "#m = yn[(ta_panel['SEX'] == 1)]\n",
    "#f = yn[(ta_panel['SEX'] == 2)]\n",
    "#print(stats.ttest_ind(m,f)) # statistical difference between yn_fiscalpol for males and females(t-stat, assuming Normality and homogeneity of variance)"
   ]
  },
  {
   "cell_type": "markdown",
   "metadata": {
    "slideshow": {
     "slide_type": "slide"
    }
   },
   "source": [
    "### Make figures"
   ]
  },
  {
   "cell_type": "code",
   "execution_count": 17,
   "metadata": {
    "slideshow": {
     "slide_type": "-"
    }
   },
   "outputs": [],
   "source": [
    "plt.style.use('seaborn') # set a plot style"
   ]
  },
  {
   "cell_type": "markdown",
   "metadata": {
    "slideshow": {
     "slide_type": "subslide"
    }
   },
   "source": [
    "#### - Histograms"
   ]
  },
  {
   "cell_type": "code",
   "execution_count": null,
   "metadata": {
    "slideshow": {
     "slide_type": "-"
    }
   },
   "outputs": [],
   "source": [
    "yn = ta_panel['yn_fiscalpol'].dropna()  \n",
    "yn = yn[yn != 99]\n",
    "\n",
    "plt.hist(yn,bins=5,align='mid',range=(0.5,5.5),alpha=0.3,color='k')\n",
    "plt.title('Title')\n",
    "plt.show()\n",
    "\n",
    "plt.savefig(\"analysis_output/yn_fiscalpol_py.png\") # save file"
   ]
  },
  {
   "cell_type": "code",
   "execution_count": null,
   "metadata": {
    "slideshow": {
     "slide_type": "subslide"
    }
   },
   "outputs": [],
   "source": [
    "yn = ta_panel['yn_fiscalpol'].dropna() \n",
    "yn = yn[yn != 99]\n",
    "m = yn[(ta_panel['SEX'] == 1)]\n",
    "f = yn[(ta_panel['SEX'] == 2)]\n",
    "\n",
    "# make a plot with two histograms\n",
    "plt.subplot(1,2,1,title='Male',facecolor='white') # left figure\n",
    "plt.hist(m, bins=5,align='mid',range=(0.5,5.5),alpha=0.3,color='b')\n",
    "\n",
    "plt.subplot(1,2,2,title='Female',facecolor='white').set_ylim([0,1050]) # right figure\n",
    "plt.hist(f,bins=5,align='mid',range=(0.5,5.5),alpha=0.3,color='r')\n",
    "\n",
    "plt.suptitle(\"Fiscal policy\")\n",
    "#plt.show()\n",
    "\n",
    "plt.savefig(\"analysis_output/yn_fiscalpol_by_sex_py.png\") # save file"
   ]
  },
  {
   "cell_type": "code",
   "execution_count": null,
   "metadata": {
    "slideshow": {
     "slide_type": "subslide"
    }
   },
   "outputs": [],
   "source": [
    "# alternative code\n",
    "yn = ta_panel['yn_fiscalpol'].dropna() \n",
    "yn = yn[yn != 99]\n",
    "m = yn[(ta_panel['SEX'] == 1)]\n",
    "f = yn[(ta_panel['SEX'] == 2)]\n",
    "\n",
    "# make a plot with two histograms\n",
    "fig = plt.figure()\n",
    "left = fig.add_subplot(1,2,1,title='Male',facecolor='white') # left figure\n",
    "right = fig.add_subplot(1,2,2,title='Female', ylim=(0,1050),facecolor='white') # right figure\n",
    "\n",
    "left.hist(m, bins=5,align='mid',range=(0.5,5.5),alpha=0.3,color='b')\n",
    "right.hist(f, bins=5,align='mid',range=(0.5,5.5),alpha=0.3,color='r')\n",
    "\n",
    "plt.suptitle('Fiscal policy')\n",
    "plt.show()"
   ]
  },
  {
   "cell_type": "code",
   "execution_count": null,
   "metadata": {
    "slideshow": {
     "slide_type": "subslide"
    }
   },
   "outputs": [],
   "source": [
    "# alternative code using seaborn's FacetGrid\n",
    "ta_panel2 = ta_panel[:]\n",
    "ta_panel2['yn_fiscalpol'] = ta_panel2['yn_fiscalpol'].dropna() \n",
    "ta_panel2 = ta_panel2[ta_panel2['yn_fiscalpol'] != 99]\n",
    "ta_panel2['SEX'] = ta_panel2['SEX'].map({1: \"Male\", 2: \"Female\"})\n",
    "\n",
    "g = sns.FacetGrid(ta_panel2,col='SEX',hue='SEX',hue_kws={'color':['blue', 'red']})\n",
    "g.map(plt.hist,'yn_fiscalpol',bins=5,align='mid',range=(0.5,5.5),alpha=0.3)\n",
    "g.fig.suptitle(\"Fiscal policy\")\n",
    "g.set_titles('{col_name}')"
   ]
  },
  {
   "cell_type": "code",
   "execution_count": null,
   "metadata": {
    "slideshow": {
     "slide_type": "subslide"
    }
   },
   "outputs": [],
   "source": [
    "# combine two figures in a single plot\n",
    "yn = ta_panel['yn_fiscalpol'].dropna() \n",
    "yn = yn[yn != 99]\n",
    "m = yn[(ta_panel['SEX'] == 1)]\n",
    "f = yn[(ta_panel['SEX'] == 2)]\n",
    "\n",
    "plt.hist(m,bins=5,align='mid',range=(0.5,5.5),alpha=0.3,color='b') \n",
    "plt.hist(f,bins=5,align='mid',range=(0.5,5.5),alpha=0.3,color='r')\n",
    "\n",
    "plt.title('')\n",
    "plt.show()"
   ]
  },
  {
   "cell_type": "markdown",
   "metadata": {
    "slideshow": {
     "slide_type": "subslide"
    }
   },
   "source": [
    "#### - Kernel density plots"
   ]
  },
  {
   "cell_type": "code",
   "execution_count": null,
   "metadata": {
    "slideshow": {
     "slide_type": "-"
    }
   },
   "outputs": [],
   "source": [
    "np.random.seed(123456789) # give a seed\n",
    "rdm = pd.Series(np.random.normal(0,1,size=1000)) # get random values\n",
    "rdm.hist(bins=100,alpha=0.3,color='r',density=True) # plot a histogram\n",
    "rdm.plot.kde(style='k--') # plot kernel density"
   ]
  },
  {
   "cell_type": "markdown",
   "metadata": {
    "slideshow": {
     "slide_type": "subslide"
    }
   },
   "source": [
    "#### - Scatter plots"
   ]
  },
  {
   "cell_type": "code",
   "execution_count": null,
   "metadata": {
    "slideshow": {
     "slide_type": "-"
    }
   },
   "outputs": [],
   "source": [
    "ta = ta_panel[(ta_panel['fav_ozawa'] != 999)] # remove \"no answer\"\n",
    "\n",
    "ta.plot.scatter(y='AGE', x='fav_ozawa')\n",
    "plt.show()"
   ]
  },
  {
   "cell_type": "markdown",
   "metadata": {
    "slideshow": {
     "slide_type": "subslide"
    }
   },
   "source": [
    "#### - Line plots"
   ]
  },
  {
   "cell_type": "code",
   "execution_count": null,
   "metadata": {
    "slideshow": {
     "slide_type": "-"
    }
   },
   "outputs": [],
   "source": [
    "np.random.seed(123456789) # give a seed\n",
    "fig = plt.figure()\n",
    "ax = fig.add_subplot(1,1,1)\n",
    "ax.plot(np.random.randn(1000).cumsum(), 'b', label='one') \n",
    "ax.plot(np.random.randn(1000).cumsum(), 'r', label='two')\n",
    "ax.plot(np.random.randn(1000).cumsum(), 'y', label='three')\n",
    "ax.legend(loc='best') # plot a legend"
   ]
  },
  {
   "cell_type": "markdown",
   "metadata": {
    "slideshow": {
     "slide_type": "slide"
    }
   },
   "source": [
    "### Make regression tables"
   ]
  },
  {
   "cell_type": "code",
   "execution_count": null,
   "metadata": {
    "slideshow": {
     "slide_type": "subslide"
    }
   },
   "outputs": [],
   "source": [
    "# subset\n",
    "ta1 = ta_panel[ta_panel['ab_asiaus'] != 99] # remove \"no answer\"\n",
    "\n",
    "# define covariates\n",
    "X1 = ['const','AGE']\n",
    "X2 = ['const','AGE','PREFEC']\n",
    "\n",
    "# OLS regressions \n",
    "reg1 = sm.OLS(ta1['ab_asiaus'], ta1[X1], missing='drop').fit() \n",
    "reg2 = sm.OLS(ta1['ab_asiaus'], ta1[X2], missing='drop').fit()\n",
    "\n",
    "# summary of results\n",
    "results_table = summary_col(results=[reg1,reg2],\n",
    "                            float_format='%0.2f',\n",
    "                            stars = True,\n",
    "                            model_names=['Model 1',\n",
    "                                         'Model 2'],\n",
    "                            info_dict={'R-squared' : lambda x: \"{:.3f}\".format(x.rsquared),\n",
    "                                       'Number of obs.' : lambda x: \"{0:d}\".format(int(x.nobs))},\n",
    "                            regressor_order=['AGE',\n",
    "                                             'PREFEC',\n",
    "                                             'const'])\n",
    "\n",
    "results_table.add_title('Table X - OLS Regressions')\n",
    "\n",
    "print(results_table)"
   ]
  },
  {
   "cell_type": "markdown",
   "metadata": {
    "slideshow": {
     "slide_type": "subslide"
    }
   },
   "source": [
    "- You can use the formula interface for `statsmodels`.\n",
    "    - Use `smf` instead of `sm`."
   ]
  },
  {
   "cell_type": "code",
   "execution_count": null,
   "metadata": {
    "slideshow": {
     "slide_type": "subslide"
    }
   },
   "outputs": [],
   "source": [
    "# subset\n",
    "ta1 = ta_panel[ta_panel['ab_asiaus'] != 99]\n",
    "\n",
    "# OLS regressions\n",
    "reg1 = smf.ols('ab_asiaus ~ AGE',data=ta1,missing='drop').fit()\n",
    "reg2 = smf.ols('ab_asiaus ~ AGE + PREFEC',data=ta1,missing='drop').fit()\n",
    "\n",
    "# summary of results\n",
    "results_table = summary_col(results=[reg1,reg2],\n",
    "                            float_format='%0.2f',\n",
    "                            stars=True,\n",
    "                            model_names=['Model 1',\n",
    "                                         'Model 2'],\n",
    "                            info_dict={'R-squared' : lambda x: \"{:.3f}\".format(x.rsquared),\n",
    "                                       'Number of obs.' : lambda x: \"{0:d}\".format(int(x.nobs))},\n",
    "                            regressor_order=['AGE',\n",
    "                                             'PREFEC'])\n",
    "\n",
    "results_table.add_title('Table X - OLS Regressions')\n",
    "\n",
    "print(results_table)\n",
    "\n",
    "# save the output table\n",
    "file = open(\"analysis_output/ols_results.tex\",\"w\")\n",
    "file.write(results_table.as_latex())\n",
    "file.close()"
   ]
  },
  {
   "cell_type": "markdown",
   "metadata": {
    "slideshow": {
     "slide_type": "subslide"
    }
   },
   "source": [
    "#### - Include Dummies"
   ]
  },
  {
   "cell_type": "code",
   "execution_count": null,
   "metadata": {
    "scrolled": false,
    "slideshow": {
     "slide_type": "subslide"
    }
   },
   "outputs": [],
   "source": [
    "# take a subset\n",
    "ta1 = ta_panel[(ta_panel['yn_nkorea'] != 99) & (ta_panel['yn_preemp'] != 99)]\n",
    "\n",
    "# OLS regressions with fixed effects (individuals and election years)\n",
    "reg1 = smf.ols('yn_preemp ~ yn_nkorea',data=ta1,missing='drop').fit()\n",
    "reg2 = smf.ols('yn_preemp ~ yn_nkorea + C(uid) + C(ELECYEAR)',data=ta1,missing='drop').fit()\n",
    "\n",
    "# summary of results\n",
    "results_table = summary_col(results=[reg1,reg2],\n",
    "                            float_format='%0.3f',\n",
    "                            stars = True,\n",
    "                            model_names=['Model 1',\n",
    "                                         'Model 2'],\n",
    "                            info_dict={'R-squared' : lambda x: \"{:.3f}\".format(x.rsquared),\n",
    "                                       'Number of obs.' : lambda x: \"{0:d}\".format(int(x.nobs))},\n",
    "                            regressor_order=['yn_nkorea'],\n",
    "                            drop_omitted=True) # Try True\n",
    "\n",
    "results_table.add_title('Table X - OLS Regressions')\n",
    "\n",
    "print(results_table)"
   ]
  },
  {
   "cell_type": "markdown",
   "metadata": {
    "slideshow": {
     "slide_type": "subslide"
    }
   },
   "source": [
    "- Alternatively, use `PanelOLS` in `linearmodels`.\n",
    "    - Note that the reported R-squared measures do not include FEs in calculation. It tends to return smaller values."
   ]
  },
  {
   "cell_type": "code",
   "execution_count": null,
   "metadata": {
    "slideshow": {
     "slide_type": "subslide"
    }
   },
   "outputs": [],
   "source": [
    "ta1 = ta_panel[(ta_panel['yn_nkorea'] != 99) & (ta_panel['yn_preemp'] != 99) & (ta_panel['yn_nkorea'].isna() == False) & (ta_panel['yn_preemp'].isna() == False)]\n",
    "\n",
    "ta1 = ta1.set_index(['uid','ELECYEAR']) # set index\n",
    "mod = PanelOLS.from_formula('yn_preemp ~ yn_nkorea + EntityEffects + TimeEffects', ta1)\n",
    "\n",
    "#dep = ta1.yn_preemp\n",
    "#exog = sm.add_constant(ta1[['yn_nkorea']])\n",
    "#mod = PanelOLS(dep,exog,entity_effects=True,time_effects=True)\n",
    "\n",
    "res = mod.fit(cov_type='unadjusted')\n",
    "#res = mod.fit(cov_type='clustered', cluster_entity=True) # cluster standard errors at the entity level (individual level)\n",
    "print(res)"
   ]
  },
  {
   "cell_type": "markdown",
   "metadata": {
    "slideshow": {
     "slide_type": "subslide"
    }
   },
   "source": [
    "- Cluster standard errors."
   ]
  },
  {
   "cell_type": "code",
   "execution_count": null,
   "metadata": {
    "slideshow": {
     "slide_type": "subslide"
    }
   },
   "outputs": [],
   "source": [
    "# take a subset\n",
    "ta1 = ta_panel[(ta_panel['yn_nkorea'] != 99) & (ta_panel['yn_preemp'] != 99) & (ta_panel['yn_nkorea'].isna() == False) & (ta_panel['yn_preemp'].isna() == False)]\n",
    "ta1 = ta1.dropna(subset=['yn_nkorea','yn_preemp']) # you have to drop NaN before computing clustered standard errors\n",
    "\n",
    "# OLS regressions with clustered standard errors (at the individual level)\n",
    "reg1 = smf.ols('yn_preemp ~ yn_nkorea',data=ta1).fit()\n",
    "reg2 = smf.ols('yn_preemp ~ yn_nkorea',data=ta1).fit(cov_type='cluster', cov_kwds={'groups':ta1['uid']}) # clustered at the individual level\n",
    "\n",
    "# summary of results\n",
    "results_table = summary_col(results=[reg1,reg2],\n",
    "                            float_format='%0.3f',\n",
    "                            stars = True,\n",
    "                            model_names=['Model 1',\n",
    "                                         'Model 2'],\n",
    "                            info_dict={'R-squared' : lambda x: \"{:.3f}\".format(x.rsquared),\n",
    "                                       'Number of obs.' : lambda x: \"{0:d}\".format(int(x.nobs))},\n",
    "                            regressor_order=['yn_nkorea'],\n",
    "                            drop_omitted=True) \n",
    "\n",
    "results_table.add_title('Table X - OLS Regressions')\n",
    "\n",
    "print(results_table)"
   ]
  }
 ],
 "metadata": {
  "celltoolbar": "Slideshow",
  "kernelspec": {
   "display_name": "Python 3",
   "language": "python",
   "name": "python3"
  },
  "language_info": {
   "codemirror_mode": {
    "name": "ipython",
    "version": 3
   },
   "file_extension": ".py",
   "mimetype": "text/x-python",
   "name": "python",
   "nbconvert_exporter": "python",
   "pygments_lexer": "ipython3",
   "version": "3.6.5"
  }
 },
 "nbformat": 4,
 "nbformat_minor": 2
}

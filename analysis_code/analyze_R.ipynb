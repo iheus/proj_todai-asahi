{
 "cells": [
  {
   "cell_type": "markdown",
   "metadata": {
    "slideshow": {
     "slide_type": "slide"
    }
   },
   "source": [
    "## Code for analyzing the Today-Asahi dataset\n",
    "#### Data Management (Spring/Summer 2018) at OSIPP, Osaka U\n",
    "\n",
    "### R version"
   ]
  },
  {
   "cell_type": "markdown",
   "metadata": {
    "slideshow": {
     "slide_type": "slide"
    }
   },
   "source": [
    "### Preamble"
   ]
  },
  {
   "cell_type": "code",
   "execution_count": 107,
   "metadata": {
    "slideshow": {
     "slide_type": "-"
    }
   },
   "outputs": [],
   "source": [
    "library(dplyr)\n",
    "library(data.table) \n",
    "library(magrittr)\n",
    "library(stargazer) # install.packages(\"stargazer\", repos='http://cran.us.r-project.org')\n",
    "library(ggplot2)\n",
    "library(repr)\n",
    "library(lfe) # install.packages(\"lfe\", repos='http://cran.us.r-project.org')\n",
    "library(plm) # install.packages(\"plm\", repos='http://cran.us.r-project.org')"
   ]
  },
  {
   "cell_type": "code",
   "execution_count": 108,
   "metadata": {
    "slideshow": {
     "slide_type": "subslide"
    }
   },
   "outputs": [],
   "source": [
    "setwd(\"..\") # set the parent directory as a working directory. Alternatively, specify the path to your local directory."
   ]
  },
  {
   "cell_type": "code",
   "execution_count": 109,
   "metadata": {
    "slideshow": {
     "slide_type": "subslide"
    }
   },
   "outputs": [],
   "source": [
    "options(repr.plot.width=4, repr.plot.height=4) # set figure size"
   ]
  },
  {
   "cell_type": "markdown",
   "metadata": {
    "slideshow": {
     "slide_type": "slide"
    }
   },
   "source": [
    "### Import data"
   ]
  },
  {
   "cell_type": "code",
   "execution_count": null,
   "metadata": {
    "slideshow": {
     "slide_type": "-"
    }
   },
   "outputs": [],
   "source": [
    "ta_panel <- fread('build_input/todai-asahi/output/syuuin_2009_2014_R.csv')\n",
    "print(dim(ta_panel))\n",
    "ta_panel <- subset(ta_panel,(PREFEC != 66) & (!is.na(PREFEC))) # remove PR and missing prefec\n",
    "print(dim(ta_panel))"
   ]
  },
  {
   "cell_type": "markdown",
   "metadata": {
    "slideshow": {
     "slide_type": "slide"
    }
   },
   "source": [
    "### Check contents"
   ]
  },
  {
   "cell_type": "code",
   "execution_count": null,
   "metadata": {
    "slideshow": {
     "slide_type": "subslide"
    }
   },
   "outputs": [],
   "source": [
    "print(head(ta_panel)) # top 5 rows"
   ]
  },
  {
   "cell_type": "code",
   "execution_count": null,
   "metadata": {
    "slideshow": {
     "slide_type": "subslide"
    }
   },
   "outputs": [],
   "source": [
    "print(str(ta_panel)) # get structure "
   ]
  },
  {
   "cell_type": "code",
   "execution_count": null,
   "metadata": {
    "slideshow": {
     "slide_type": "subslide"
    }
   },
   "outputs": [],
   "source": [
    "print(summary(ta_panel)) # get a summary table"
   ]
  },
  {
   "cell_type": "code",
   "execution_count": null,
   "metadata": {
    "slideshow": {
     "slide_type": "subslide"
    }
   },
   "outputs": [],
   "source": [
    "print(\"total number of NA\")\n",
    "print(apply(is.na(ta_panel),2,sum)) \n",
    "print(\"total number of NaN\")\n",
    "print(apply(is.nan(as.matrix(ta_panel)),2,sum)) \n",
    "print(\"total number of inf or -inf\")\n",
    "print(apply(is.infinite(as.matrix(ta_panel)),2,sum)) "
   ]
  },
  {
   "cell_type": "markdown",
   "metadata": {
    "slideshow": {
     "slide_type": "slide"
    }
   },
   "source": [
    "### Make a summary table"
   ]
  },
  {
   "cell_type": "code",
   "execution_count": null,
   "metadata": {
    "slideshow": {
     "slide_type": "subslide"
    }
   },
   "outputs": [],
   "source": [
    "stargazer(ta_panel,out=\"analysis_output/sum_stat_R.tex\")"
   ]
  },
  {
   "cell_type": "markdown",
   "metadata": {
    "slideshow": {
     "slide_type": "subslide"
    }
   },
   "source": [
    "#### - Group summary\n",
    "- Use `group_by()`."
   ]
  },
  {
   "cell_type": "code",
   "execution_count": null,
   "metadata": {
    "slideshow": {
     "slide_type": "-"
    }
   },
   "outputs": [],
   "source": [
    "ta_panel2 <- subset(ta_panel,yn_fiscalpol != 99)\n",
    "by_set <- group_by(ta_panel2,SEX)\n",
    "summarize(by_sex,count=n(),mean=mean(yn_fiscalpol,na.rm=TRUE))"
   ]
  },
  {
   "cell_type": "markdown",
   "metadata": {
    "slideshow": {
     "slide_type": "subslide"
    }
   },
   "source": [
    "- Useful to use pipe operation.\n",
    "- `x %>% f(y)` becomes `f(x, y)`. `x %>% f(y) %>% g(z)` becomes `g(f(x, y), z)`.  "
   ]
  },
  {
   "cell_type": "code",
   "execution_count": null,
   "metadata": {
    "slideshow": {
     "slide_type": "-"
    }
   },
   "outputs": [],
   "source": [
    "ta_panel %>%\n",
    "    subset(yn_fiscalpol != 99) %>%\n",
    "    group_by(SEX) %>%\n",
    "    summarize(\n",
    "        count = n(),\n",
    "        mean = mean(yn_fiscalpol,na.rm = TRUE))"
   ]
  },
  {
   "cell_type": "markdown",
   "metadata": {
    "slideshow": {
     "slide_type": "slide"
    }
   },
   "source": [
    "### Make figures"
   ]
  },
  {
   "cell_type": "markdown",
   "metadata": {
    "slideshow": {
     "slide_type": "subslide"
    }
   },
   "source": [
    "#### - Histograms"
   ]
  },
  {
   "cell_type": "code",
   "execution_count": null,
   "metadata": {
    "slideshow": {
     "slide_type": "subslide"
    }
   },
   "outputs": [],
   "source": [
    "ta_panel2 <- subset(ta_panel,yn_fiscalpol != 99)\n",
    "\n",
    "ggplot(data=ta_panel2,aes(yn_fiscalpol)) + \n",
    "    geom_histogram(binwidth=1,alpha=0.3,fill=\"black\") +\n",
    "    scale_y_continuous(breaks=seq(0,1250,by=200)) +\n",
    "    labs(title=\"Title\",x=\"Fiscal policy\",y=\"\") +\n",
    "    theme(\n",
    "        panel.background = element_rect(fill=NA),\n",
    "        panel.border = element_rect(fill=NA,color=\"grey75\"),\n",
    "        axis.ticks = element_line(color=\"grey85\"),\n",
    "        #panel.grid.major = element_line(color = \"grey95\", size = 0.2),\n",
    "        #panel.grid.minor = element_line(color = \"grey95\", size = 0.2),\n",
    "        legend.position = \"none\",\n",
    "        plot.title = element_text(hjust=0.5,size=9),\n",
    "        axis.title = element_text(size=9),\n",
    "        axis.text = element_text(size=9)\n",
    "    )\n",
    "ggsave(\"analysis_output/yn_fiscalpol_R.png\",width=4,height=4)"
   ]
  },
  {
   "cell_type": "code",
   "execution_count": null,
   "metadata": {
    "slideshow": {
     "slide_type": "subslide"
    }
   },
   "outputs": [],
   "source": [
    "ta_panel2 <- subset(ta_panel,yn_fiscalpol != 99)\n",
    "ta_panel2$SEX <- factor(ta_panel2$SEX)\n",
    "levels(ta_panel2$SEX) <- c(\"Male\",\"Female\")\n",
    "\n",
    "ggplot(data=ta_panel2,aes(yn_fiscalpol,fill=factor(SEX))) +\n",
    "    geom_histogram(binwidth=1,alpha=0.3) +\n",
    "    scale_y_continuous(breaks=seq(0,1250,by=200)) +\n",
    "    facet_grid(. ~ SEX) +\n",
    "    scale_fill_manual(values=c(\"blue\",\"red\")) + \n",
    "    labs(title=\"Title\",x=\"Fiscal policy\",y=\"\") +\n",
    "    theme(\n",
    "        panel.background = element_rect(fill=NA),\n",
    "        panel.border = element_rect(fill=NA,color=\"grey75\"),\n",
    "        axis.ticks = element_line(color=\"grey85\"),\n",
    "        #panel.grid.major = element_line(color = \"grey95\", size = 0.2),\n",
    "        #panel.grid.minor = element_line(color = \"grey95\", size = 0.2),\n",
    "        legend.position = \"none\",\n",
    "        plot.title = element_text(hjust=0.5,size=9),\n",
    "        axis.title = element_text(size=9),\n",
    "        axis.text = element_text(size=9)\n",
    "    )\n",
    "ggsave(\"analysis_output/yn_fiscalpol_bysex_R.png\",width=4,height=4)"
   ]
  },
  {
   "cell_type": "code",
   "execution_count": null,
   "metadata": {
    "slideshow": {
     "slide_type": "subslide"
    }
   },
   "outputs": [],
   "source": [
    "ta_panel2 <- subset(ta_panel,yn_fiscalpol != 99)\n",
    "ta_panel2$SEX <- factor(ta_panel2$SEX)\n",
    "levels(ta_panel2$SEX) <- c(\"Male\",\"Female\")\n",
    "\n",
    "ggplot(data=ta_panel2,aes(yn_fiscalpol,fill=SEX))+\n",
    "    geom_histogram(binwidth=1,alpha=0.3,position='identity') +\n",
    "    scale_y_continuous(breaks=seq(0,1250,by=200)) +\n",
    "    scale_fill_manual(values=c(\"blue\",\"red\")) + \n",
    "    labs(title=\"Title\",x=\"Fiscal policy\",y=\"\") +\n",
    "    theme(\n",
    "        panel.background = element_rect(fill=NA),\n",
    "        panel.border = element_rect(fill=NA,color=\"grey75\"),\n",
    "        axis.ticks = element_line(color=\"grey85\"),\n",
    "        #panel.grid.major = element_line(color = \"grey95\", size = 0.2),\n",
    "        #panel.grid.minor = element_line(color = \"grey95\", size = 0.2),\n",
    "        legend.position = \"none\",\n",
    "        plot.title = element_text(hjust=0.5,size=9),\n",
    "        axis.title = element_text(size=9),\n",
    "        axis.text = element_text(size=9)\n",
    "    )"
   ]
  },
  {
   "cell_type": "markdown",
   "metadata": {
    "slideshow": {
     "slide_type": "subslide"
    }
   },
   "source": [
    "#### - Kernel density plots"
   ]
  },
  {
   "cell_type": "code",
   "execution_count": null,
   "metadata": {
    "slideshow": {
     "slide_type": "subslide"
    }
   },
   "outputs": [],
   "source": [
    "set.seed(123456789)\n",
    "normal <- data.frame(value=rnorm(1000,0,1))\n",
    "ggplot(data=normal,aes(x=value)) +\n",
    "    geom_density(aes(color='red',alpha=0.3)) +\n",
    "    geom_histogram(bins=100,alpha=0.3,aes(y=..density..)) +\n",
    "    labs(title=\"Title\",x=\"\",y=\"\") +\n",
    "    theme(\n",
    "        panel.background = element_rect(fill=NA),\n",
    "        panel.border = element_rect(fill=NA,color=\"grey75\"),\n",
    "        axis.ticks = element_line(color=\"grey85\"),\n",
    "        #panel.grid.major = element_line(color = \"grey95\", size = 0.2),\n",
    "        #panel.grid.minor = element_line(color = \"grey95\", size = 0.2),\n",
    "        legend.position = \"none\",\n",
    "        plot.title = element_text(hjust=0.5,size=9),\n",
    "        axis.title = element_text(size=9),\n",
    "        axis.text = element_text(size=9)\n",
    "    )"
   ]
  },
  {
   "cell_type": "markdown",
   "metadata": {
    "slideshow": {
     "slide_type": "subslide"
    }
   },
   "source": [
    "#### - Scatter plots"
   ]
  },
  {
   "cell_type": "code",
   "execution_count": null,
   "metadata": {
    "slideshow": {
     "slide_type": "subslide"
    }
   },
   "outputs": [],
   "source": [
    "ta_panel2 <- subset(ta_panel,(fav_ozawa != 999) & (!is.na(AGE)))\n",
    "\n",
    "ggplot(data=ta_panel2,aes(x=fav_ozawa,y=AGE))+\n",
    "    geom_point(color='blue') +\n",
    "    labs(title=\"Title\",x=\"fav_ozawa\",y=\"Age\") +\n",
    "    theme(\n",
    "        panel.background = element_rect(fill = NA),\n",
    "        panel.border = element_rect(fill = NA, color = \"grey75\"),\n",
    "        axis.ticks = element_line(color = \"grey85\"),\n",
    "        #panel.grid.major = element_line(color = \"grey95\", size = 0.2),\n",
    "        #panel.grid.minor = element_line(color = \"grey95\", size = 0.2),\n",
    "        legend.position = \"none\",\n",
    "        plot.title = element_text(hjust = 0.5, size=9),\n",
    "        axis.title = element_text(size=9),\n",
    "        axis.text = element_text(size=9)\n",
    "    )"
   ]
  },
  {
   "cell_type": "markdown",
   "metadata": {
    "slideshow": {
     "slide_type": "subslide"
    }
   },
   "source": [
    "#### - Line plots"
   ]
  },
  {
   "cell_type": "code",
   "execution_count": null,
   "metadata": {
    "slideshow": {
     "slide_type": "subslide"
    }
   },
   "outputs": [],
   "source": [
    "set.seed(123456789)\n",
    "n <- 1000\n",
    "\n",
    "wn <- data.frame(\n",
    "    sample = 1:n,\n",
    "    group=rep(c(\"one\",\"two\",\"three\"),each=n), \n",
    "        value=c(cumsum(rnorm(n,0,1)), \n",
    "                cumsum(rnorm(n,0,1)),\n",
    "                cumsum(rnorm(n,0,1)))\n",
    "    )\n",
    "\n",
    "ggplot(data=wn,mapping=aes(x=sample,y=value)) +\n",
    "    geom_line(mapping=aes(colour=group)) +\n",
    "    labs(title=\"Title\", x=\"\", y=\"\") +\n",
    "    scale_color_manual(name=\"\",values=c(\"blue\",\"red\",\"yellow\")) +\n",
    "    theme(\n",
    "        panel.background = element_rect(fill=NA),\n",
    "        panel.border = element_rect(fill=NA, color=\"grey75\"),\n",
    "        axis.ticks = element_line(color=\"grey85\"),\n",
    "        #panel.grid.major = element_line(color = \"grey95\", size = 0.2),\n",
    "        #panel.grid.minor = element_line(color = \"grey95\", size = 0.2),\n",
    "        legend.position = \"bottom\",\n",
    "        legend.key = element_blank(),\n",
    "        legend.text = element_text(size=8),\n",
    "        plot.title = element_text(hjust = 0.5, size=9),\n",
    "        axis.title = element_text(size=9),\n",
    "        axis.text = element_text(size=9)\n",
    "    )"
   ]
  },
  {
   "cell_type": "markdown",
   "metadata": {
    "slideshow": {
     "slide_type": "subslide"
    }
   },
   "source": [
    "### Make regression tables"
   ]
  },
  {
   "cell_type": "code",
   "execution_count": null,
   "metadata": {
    "slideshow": {
     "slide_type": "-"
    }
   },
   "outputs": [],
   "source": [
    "ta_panel2 <- subset(ta_panel,ab_asiaus != 99)\n",
    "\n",
    "reg1 <- lm(ab_asiaus ~ AGE,data=ta_panel2)\n",
    "reg2 <- lm(ab_asiaus ~ AGE + PREFEC,data=ta_panel2)\n",
    "\n",
    "stargazer(reg1,reg2,title=\"OLS Regressions\",align=TRUE,type=\"text\")\n",
    "stargazer(reg1,reg2,title=\"OLS Regressions\",align=TRUE,out=\"analysis_output/ols_results_R.tex\")"
   ]
  },
  {
   "cell_type": "markdown",
   "metadata": {
    "slideshow": {
     "slide_type": "subslide"
    }
   },
   "source": [
    "#### - Include dummies"
   ]
  },
  {
   "cell_type": "code",
   "execution_count": null,
   "metadata": {
    "scrolled": true,
    "slideshow": {
     "slide_type": "-"
    }
   },
   "outputs": [],
   "source": [
    "ta_panel2 <- subset(ta_panel,(yn_nkorea != 99) & (yn_preemp != 99) & (is.na(yn_nkorea) == FALSE) & (is.na(yn_preemp) == FALSE))\n",
    "\n",
    "reg1 <- lm(yn_preemp ~ yn_nkorea,data=ta_panel2)\n",
    "reg2 <- felm(yn_preemp ~ yn_nkorea | uid + ELECYEAR,data=ta_panel2)\n",
    "\n",
    "stargazer(reg1,reg2,title=\"OLS Regressions\",align=TRUE,type = \"text\")"
   ]
  },
  {
   "cell_type": "markdown",
   "metadata": {
    "slideshow": {
     "slide_type": "subslide"
    }
   },
   "source": [
    "- Use `plm` (not recommended)."
   ]
  },
  {
   "cell_type": "code",
   "execution_count": null,
   "metadata": {
    "scrolled": true,
    "slideshow": {
     "slide_type": "-"
    }
   },
   "outputs": [],
   "source": [
    "ta <- pdata.frame(ta_panel,index=c(\"uid\",\"ELECYEAR\"),drop.index=TRUE,row.names=TRUE)\n",
    "ta2 <- subset(ta,yn_nkorea != 99 & yn_preemp != 99)\n",
    "\n",
    "reg <- plm(yn_preemp ~ yn_nkorea,data=ta2, model=\"within\",effect=\"twoway\")\n",
    "\n",
    "stargazer(reg,title=\"OLS Regressions\",align=TRUE,type=\"text\")"
   ]
  },
  {
   "cell_type": "markdown",
   "metadata": {
    "slideshow": {
     "slide_type": "subslide"
    }
   },
   "source": [
    "- Cluster standard errors."
   ]
  },
  {
   "cell_type": "code",
   "execution_count": null,
   "metadata": {
    "slideshow": {
     "slide_type": "subslide"
    }
   },
   "outputs": [],
   "source": [
    "ta_panel2 <- subset(ta_panel, yn_nkorea != 99 & yn_preemp != 99)\n",
    "\n",
    "reg1 <- felm(yn_preemp ~ yn_nkorea, data=ta_panel2)\n",
    "reg2 <- felm(yn_preemp ~ yn_nkorea | 0 | 0 | uid, data=ta_panel2)\n",
    "\n",
    "stargazer(reg1, reg2, title=\"OLS Regressions\", align=TRUE, type = \"text\")"
   ]
  }
 ],
 "metadata": {
  "celltoolbar": "Slideshow",
  "kernelspec": {
   "display_name": "R",
   "language": "R",
   "name": "ir"
  },
  "language_info": {
   "codemirror_mode": "r",
   "file_extension": ".r",
   "mimetype": "text/x-r-source",
   "name": "R",
   "pygments_lexer": "r",
   "version": "3.4.4"
  }
 },
 "nbformat": 4,
 "nbformat_minor": 2
}
